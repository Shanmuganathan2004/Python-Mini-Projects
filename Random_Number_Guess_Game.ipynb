{
  "nbformat": 4,
  "nbformat_minor": 0,
  "metadata": {
    "colab": {
      "provenance": [],
      "authorship_tag": "ABX9TyNz62SAjS7fI63afLZK+M9E",
      "include_colab_link": true
    },
    "kernelspec": {
      "name": "python3",
      "display_name": "Python 3"
    },
    "language_info": {
      "name": "python"
    }
  },
  "cells": [
    {
      "cell_type": "markdown",
      "metadata": {
        "id": "view-in-github",
        "colab_type": "text"
      },
      "source": [
        "<a href=\"https://colab.research.google.com/github/Shanmuganathan2004/Python-Mini-Projects/blob/main/Random_Number_Guess_Game.ipynb\" target=\"_parent\"><img src=\"https://colab.research.google.com/assets/colab-badge.svg\" alt=\"Open In Colab\"/></a>"
      ]
    },
    {
      "cell_type": "code",
      "execution_count": 2,
      "metadata": {
        "colab": {
          "base_uri": "https://localhost:8080/"
        },
        "id": "pmESlh1H7IOr",
        "outputId": "f9798572-aa05-43bd-e0df-c75a50dc0050"
      },
      "outputs": [
        {
          "output_type": "stream",
          "name": "stdout",
          "text": [
            "I'm thinking of a number between 1 and 10\n",
            "Take a Guess: 4\n",
            "Too low! Try again.\n",
            "Take a Guess: 45\n",
            "Too high! Try again.\n",
            "Take a Guess: 5\n",
            "Too low! Try again.\n",
            "Take a Guess: 11\n",
            "Too high! Try again.\n",
            "Take a Guess: 14\n",
            "Too high! Try again.\n",
            "Sorry, you've run out of attempts. The secret number was: 10\n"
          ]
        }
      ],
      "source": [
        "# Generating Random Responses\n",
        "\n",
        "\n",
        "import random\n",
        "\n",
        "secret_number = random. randint(1, 10)\n",
        "attempts = 3\n",
        "\n",
        "print(\"I'm thinking of a number between 1 and 10\")\n",
        "\n",
        "while attempts > 0:\n",
        "  guess = int(input(\"Take a Guess: \") )\n",
        "  if guess == secret_number:\n",
        "    print(\"Congratulations! You guessed the number!\")\n",
        "    break\n",
        "  elif guess < secret_number:\n",
        "    print(\"Too low! Try again.\")\n",
        "  else:\n",
        "    print(\"Too high! Try again.\")\n",
        "    attempts -= 1\n",
        "\n",
        "if attempts == 0:\n",
        "  print(\"Sorry, you've run out of attempts. The secret number was:\", secret_number)"
      ]
    }
  ]
}