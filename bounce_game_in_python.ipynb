{
  "nbformat": 4,
  "nbformat_minor": 0,
  "metadata": {
    "colab": {
      "provenance": [],
      "authorship_tag": "ABX9TyNwhU5zDSCaXECIBEewT78f",
      "include_colab_link": true
    },
    "kernelspec": {
      "name": "python3",
      "display_name": "Python 3"
    },
    "language_info": {
      "name": "python"
    }
  },
  "cells": [
    {
      "cell_type": "markdown",
      "metadata": {
        "id": "view-in-github",
        "colab_type": "text"
      },
      "source": [
        "<a href=\"https://colab.research.google.com/github/Shanmuganathan2004/Python-Mini-Projects/blob/main/bounce_game_in_python.ipynb\" target=\"_parent\"><img src=\"https://colab.research.google.com/assets/colab-badge.svg\" alt=\"Open In Colab\"/></a>"
      ]
    },
    {
      "cell_type": "code",
      "execution_count": null,
      "metadata": {
        "id": "EHptLel8tIqp"
      },
      "outputs": [],
      "source": [
        "pip install pygame\n"
      ]
    },
    {
      "cell_type": "code",
      "source": [
        "import pygame\n",
        "import sys\n",
        "\n",
        "pygame.init()\n",
        "screen = pygame.display.set_mode((800, 600))\n",
        "pygame.display.set_caption(\"Bouncing Ball Game\")\n",
        "\n",
        "running = True\n",
        "while running:\n",
        "    for event in pygame.event.get():\n",
        "        if event.type == pygame.QUIT:\n",
        "            running = False\n",
        "\n",
        "    # Game logic and drawing code here\n",
        "\n",
        "    pygame.display.flip()\n",
        "\n",
        "pygame.quit()\n",
        "sys.exit()\n",
        "\n",
        "pygame.draw.circle(screen, color, (x, y), radius)\n",
        "clock = pygame.time.Clock()\n",
        "while running:\n",
        "    # Event handling and game logic\n",
        "\n",
        "    pygame.display.flip()\n",
        "    clock.tick(60)  # Limit to 60 frames per second\n"
      ],
      "metadata": {
        "id": "s0uF28s_1K6e"
      },
      "execution_count": null,
      "outputs": []
    }
  ]
}